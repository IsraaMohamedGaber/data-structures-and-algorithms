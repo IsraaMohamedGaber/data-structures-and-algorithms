{
 "cells": [
  {
   "cell_type": "markdown",
   "id": "d4ad7c00",
   "metadata": {},
   "source": [
    "# Breadth_First"
   ]
  },
  {
   "cell_type": "markdown",
   "id": "a9d59ec6",
   "metadata": {},
   "source": [
    "# ![](Breadth_First.png)"
   ]
  },
  {
   "cell_type": "code",
   "execution_count": 1,
   "id": "2d45687c",
   "metadata": {},
   "outputs": [],
   "source": [
    "def Breadth_First(graph, start):\n",
    "    #list empty for visited\n",
    "    visited = []\n",
    "    #Start from any node => start\n",
    "    queue = [start]  \n",
    "    #Loop Until Queue is Empty\n",
    "    while queue: #=> to Visit all its adjacent node\n",
    "        # New Queue for Next Level\n",
    "        new_queue = []  \n",
    "        for node in queue:\n",
    "            if node not in visited:\n",
    "                visited.append(node)\n",
    "                print(node)  # Print the node as we visit it\n",
    "                #Adding Neighbors to the Next Queue\n",
    "                for neighbor in graph[node]:\n",
    "                    new_queue.append(neighbor)  # Add to the new queue => graph['A'] = ['B', 'C']\n",
    "        queue = new_queue  # Move to the next level  queue = ['B', 'C']\n",
    "\n",
    "    return visited"
   ]
  },
  {
   "cell_type": "code",
   "execution_count": 2,
   "id": "69340982",
   "metadata": {
    "scrolled": true
   },
   "outputs": [
    {
     "name": "stdout",
     "output_type": "stream",
     "text": [
      "A\n",
      "B\n",
      "C\n",
      "D\n",
      "E\n",
      "F\n",
      "['A', 'B', 'C', 'D', 'E', 'F']\n"
     ]
    }
   ],
   "source": [
    "graph = {\n",
    "    'A': ['B', 'C'],\n",
    "    'B': ['D', 'E'],\n",
    "    'C': ['F'],\n",
    "    'D': [],\n",
    "    'E': ['F'],\n",
    "    'F': []\n",
    "}\n",
    "\n",
    "\n",
    "print(Breadth_First(graph, 'A'))\n"
   ]
  },
  {
   "cell_type": "markdown",
   "id": "30040e46",
   "metadata": {},
   "source": [
    "# Depth_First"
   ]
  },
  {
   "cell_type": "markdown",
   "id": "1de0cd58",
   "metadata": {},
   "source": [
    "# ![](Depth_First.png)"
   ]
  },
  {
   "cell_type": "code",
   "execution_count": 12,
   "id": "c539450d",
   "metadata": {},
   "outputs": [],
   "source": [
    "def Depth_First(graph, start, visited=[]):\n",
    "    if visited is None:\n",
    "        visited = [] #stack\n",
    "    if start not in visited:\n",
    "        visited.append(start)\n",
    "        print(start)  # Print the node as we visit it\n",
    "        for neighbor in graph[start]:  # Visit all neighbors recusion\n",
    "            Depth_First(graph, neighbor, visited)\n",
    "\n",
    "    return visited"
   ]
  },
  {
   "cell_type": "code",
   "execution_count": 13,
   "id": "d6926f07",
   "metadata": {},
   "outputs": [
    {
     "name": "stdout",
     "output_type": "stream",
     "text": [
      "A\n",
      "B\n",
      "D\n",
      "E\n",
      "F\n",
      "C\n",
      "['A', 'B', 'D', 'E', 'F', 'C']\n"
     ]
    }
   ],
   "source": [
    "graph = {\n",
    "    'A': ['B', 'C'],\n",
    "    'B': ['D', 'E'],\n",
    "    'C': ['F'],\n",
    "    'D': [],\n",
    "    'E': ['F'],\n",
    "    'F': []\n",
    "}\n",
    "\n",
    "\n",
    "print(Depth_First(graph, 'A'))\n"
   ]
  },
  {
   "cell_type": "code",
   "execution_count": null,
   "id": "31284e70",
   "metadata": {},
   "outputs": [],
   "source": []
  }
 ],
 "metadata": {
  "kernelspec": {
   "display_name": "Python 3 (ipykernel)",
   "language": "python",
   "name": "python3"
  },
  "language_info": {
   "codemirror_mode": {
    "name": "ipython",
    "version": 3
   },
   "file_extension": ".py",
   "mimetype": "text/x-python",
   "name": "python",
   "nbconvert_exporter": "python",
   "pygments_lexer": "ipython3",
   "version": "3.9.12"
  }
 },
 "nbformat": 4,
 "nbformat_minor": 5
}
