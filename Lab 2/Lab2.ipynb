{
 "cells": [
  {
   "cell_type": "markdown",
   "id": "66482fda",
   "metadata": {},
   "source": [
    "# Delete Node in Linked List\n"
   ]
  },
  {
   "cell_type": "code",
   "execution_count": 24,
   "id": "65cb4ed0",
   "metadata": {},
   "outputs": [],
   "source": [
    "class Node:\n",
    "    def __init__(self, emp_id, emp_name):\n",
    "        self.ID = emp_id\n",
    "        self.Name = emp_name\n",
    "        self.Prev = None\n",
    "        self.Next = None"
   ]
  },
  {
   "cell_type": "code",
   "execution_count": 46,
   "id": "e63fef30",
   "metadata": {},
   "outputs": [],
   "source": [
    "class LinkedList:    \n",
    "    def __init__(self):\n",
    "        self.Head = None\n",
    "        self.Tail = None\n",
    "    # Add employee at the end of the linked list\n",
    "    def Add(self, emp_id, emp_name):\n",
    "        nd = Node(emp_id, emp_name)\n",
    "        # Empty linked list\n",
    "        if self.Head is None:  \n",
    "            self.Head = nd\n",
    "            self.Tail = nd\n",
    "        # linked list has node    \n",
    "        else:\n",
    "            nd.Prev = self.Tail\n",
    "            self.Tail.Next = nd\n",
    "            self.Tail = nd\n",
    "\n",
    "\n",
    "    def DisplayAll(self):\n",
    "        cur = self.Head\n",
    "        print(\"\\nEmployee List:\")\n",
    "        while cur is not None:\n",
    "            print(f\"ID: {cur.ID}, Name: {cur.Name}\")\n",
    "            cur = cur.Next\n",
    "        print(\"All employees displayed.\")\n",
    "\n",
    "\n",
    "        \n",
    "    def Delete(self, loc):\n",
    "        retval = False\n",
    "        nd = None #if there is no node retuen None\n",
    "        # Check if the linked list is not empty\n",
    "        if (self.Head != None):\n",
    "            nd = self.Head #assign node to head to able to move throgh linkedList\n",
    "            # Deleting the first node\n",
    "            if (loc == 0):\n",
    "                 #only 1 node\n",
    "                if (self.Head == self.Tail):\n",
    "                    self.Head = self.Tail = None\n",
    "                     #more than one node -> frist node\n",
    "                else:\n",
    "                    #step 1 move head on next node\n",
    "                    self.Head = self.Head.Next\n",
    "                    #step 2 make prev refernce to none\n",
    "                    self.Head.Prev = None\n",
    "                retval = True\n",
    "            \n",
    "            # not First node (middle or last)\n",
    "            #need to arrive to node need to delete directly\n",
    "            else:\n",
    "                i = 0\n",
    "                #at end of this loop it wil arrive to node loc that i want to delete or node not exist\n",
    "                while (i < loc and nd !=None):\n",
    "                    nd = nd.Next\n",
    "                    i =i+ 1\n",
    "                # there is a node to delete\n",
    "                if (nd != None):\n",
    "                    #Last Node\n",
    "                    if nd == self.Tail:\n",
    "                        self.Tail = self.Tail.Prev\n",
    "                        self.Tail.Next = None\n",
    "                        #Middle Node \"Last case\"\n",
    "                    else:\n",
    "                        nd.Prev.Next = nd.Next\n",
    "                        nd.Next.Prev = nd.Prev\n",
    "                    retval = True\n",
    "\n",
    "        return retval     "
   ]
  },
  {
   "cell_type": "code",
   "execution_count": 48,
   "id": "753346bd",
   "metadata": {},
   "outputs": [
    {
     "name": "stdout",
     "output_type": "stream",
     "text": [
      "\n",
      "Employee List:\n",
      "ID: 101, Name: Israa\n",
      "ID: 102, Name: Salma\n",
      "ID: 103, Name: Sarah\n",
      "ID: 104, Name: Menna\n",
      "ID: 105, Name: Ali\n",
      "All employees displayed.\n",
      "\n",
      "Deleting the first node\n",
      "\n",
      "Employee List:\n",
      "ID: 102, Name: Salma\n",
      "ID: 103, Name: Sarah\n",
      "ID: 104, Name: Menna\n",
      "ID: 105, Name: Ali\n",
      "All employees displayed.\n",
      "\n",
      "Deleting a middle node\n",
      "\n",
      "Employee List:\n",
      "ID: 102, Name: Salma\n",
      "ID: 104, Name: Menna\n",
      "ID: 105, Name: Ali\n",
      "All employees displayed.\n",
      "\n",
      "Deleting the last node \n",
      "\n",
      "Employee List:\n",
      "ID: 102, Name: Salma\n",
      "ID: 104, Name: Menna\n",
      "All employees displayed.\n"
     ]
    }
   ],
   "source": [
    "dll = LinkedList()\n",
    "dll.Add(101, \"Israa\")\n",
    "dll.Add(102, \"Salma\")\n",
    "dll.Add(103, \"Sarah\")\n",
    "dll.Add(104, \"Menna\")\n",
    "dll.Add(105, \"Ali\")\n",
    "dll.DisplayAll()\n",
    "\n",
    "print(\"\\nDeleting the first node\")\n",
    "dll.Delete(0)\n",
    "dll.DisplayAll()\n",
    "\n",
    "print(\"\\nDeleting a middle node\")\n",
    "dll.Delete(1)  # \"Sarah\" is now at index 1\n",
    "dll.DisplayAll()\n",
    "\n",
    "print(\"\\nDeleting the last node \")\n",
    "dll.Delete(2)  \n",
    "dll.DisplayAll()\n",
    "\n"
   ]
  },
  {
   "cell_type": "code",
   "execution_count": null,
   "id": "af2e6bfb",
   "metadata": {},
   "outputs": [],
   "source": []
  },
  {
   "cell_type": "markdown",
   "id": "e0110d49",
   "metadata": {},
   "source": [
    "# Task Stack using Linked List (single Linked List)"
   ]
  },
  {
   "cell_type": "code",
   "execution_count": 1,
   "id": "8cb9d972",
   "metadata": {},
   "outputs": [],
   "source": [
    "#i need data and prev bec i add and remove from end don't need head or next\n",
    "class StackNode:\n",
    "    def __init__(self, data):\n",
    "        self.data=data\n",
    "        self.prev=None\n",
    "        #don't need next"
   ]
  },
  {
   "cell_type": "code",
   "execution_count": 11,
   "id": "6667f5d4",
   "metadata": {},
   "outputs": [],
   "source": [
    "class StacklinkedList:\n",
    "    def __init__ (self):\n",
    "        self.tail=None\n",
    "    def push(self,data):\n",
    "        node=StackNode(data)\n",
    "        #check node created\n",
    "        if (node!=None):\n",
    "            #need two steps make prev refernce on tail and make tail point on new node\n",
    "            node.prev=self.tail\n",
    "            self.tail=node\n",
    "            return True\n",
    "        return False\n",
    "    def pop(self):\n",
    "        #first check stack contian node or empty\n",
    "        if(self.tail==None):\n",
    "            return \"Stack empty\"\n",
    "        else:\n",
    "            #acess tail\n",
    "            retval =self.tail\n",
    "            #point to pervious node\n",
    "            self.tail=self.tail.prev\n",
    "            return retval.data\n",
    "        "
   ]
  },
  {
   "cell_type": "code",
   "execution_count": 14,
   "id": "a60a76fe",
   "metadata": {},
   "outputs": [
    {
     "name": "stdout",
     "output_type": "stream",
     "text": [
      "True\n",
      "True\n",
      "True\n",
      "20\n",
      "10\n",
      "ISRAA\n",
      "Stack empty\n"
     ]
    }
   ],
   "source": [
    "s=StacklinkedList()\n",
    "print(s.push(\"ISRAA\"))\n",
    "print(s.push(10))\n",
    "print(s.push(20))\n",
    "\n",
    "print(s.pop())  \n",
    "print(s.pop())  \n",
    "print(s.pop())  \n",
    "print(s.pop())"
   ]
  },
  {
   "cell_type": "markdown",
   "id": "c9220fdc",
   "metadata": {},
   "source": [
    "# Task three Queue using array (max 5 elements)"
   ]
  },
  {
   "cell_type": "code",
   "execution_count": 67,
   "id": "cf8d657e",
   "metadata": {},
   "outputs": [],
   "source": [
    "class linearQueueWithArray:        \n",
    "    #Parameterized constructor max with size 5\n",
    "    #we need to define size ,array of queue and rear like tos in stack\n",
    "    def __init__(self, size=5):\n",
    "        self.size=size\n",
    "        self.queueArray=[0]*self.size\n",
    "        self.rear=0\n",
    "    def enqueue(self,data):\n",
    "        #check array not full\n",
    "        if (self.rear < self.size):\n",
    "            #assign new data to raer\n",
    "            self.queueArray[self.rear]=data\n",
    "            #chage postion of rare\n",
    "            self.rear=self.rear+1\n",
    "            return True\n",
    "        else:\n",
    "            print(\"Sorry Queue is Full\")\n",
    "            return False\n",
    "    def dequeue(self):\n",
    "        #we need check node not empty\n",
    "        if self.rear>0:\n",
    "            #remove first element index 0\n",
    "            retval=self.queueArray[0]\n",
    "            #now when need to shift postion on step down\n",
    "            for i in range(self.rear-1):\n",
    "                self.queueArray[i]=self.queueArray[i+1]\n",
    "            #then clear value of rear and change postion\n",
    "            self.queueArray[self.rear-1]=0\n",
    "            self.rear=self.rear -1\n",
    "            #at end i want to return elemant removed\n",
    "            return retval\n",
    "        #  queueArray is empty\n",
    "        else:\n",
    "            print(\"Sorry Queue is Empty\")\n",
    "            return -1"
   ]
  },
  {
   "cell_type": "code",
   "execution_count": 68,
   "id": "d1e6815e",
   "metadata": {},
   "outputs": [
    {
     "name": "stdout",
     "output_type": "stream",
     "text": [
      "True\n",
      "True\n",
      "True\n",
      "True\n",
      "True\n",
      "Sorry Queue is Full\n",
      "False\n",
      "\n",
      "\n",
      "ISRAA\n",
      "10\n",
      "20\n",
      "salma\n",
      "Mohamed\n",
      "Sorry Queue is Empty\n",
      "-1\n"
     ]
    }
   ],
   "source": [
    "q=linearQueueWithArray()\n",
    "print(q.enqueue(\"ISRAA\"))\n",
    "print(q.enqueue(10))\n",
    "print(q.enqueue(20))\n",
    "print(q.enqueue(\"salma\"))\n",
    "print(q.enqueue(\"Mohamed\"))\n",
    "print(q.enqueue(\"Mohamed\"))\n",
    "print(\"\\n\")\n",
    "print(q.dequeue())  \n",
    "print(q.dequeue())  \n",
    "print(q.dequeue())  \n",
    "print(q.dequeue()) \n",
    "print(q.dequeue()) \n",
    "print(q.dequeue()) "
   ]
  },
  {
   "cell_type": "code",
   "execution_count": null,
   "id": "f2ad0894",
   "metadata": {},
   "outputs": [],
   "source": []
  }
 ],
 "metadata": {
  "kernelspec": {
   "display_name": "Python 3 (ipykernel)",
   "language": "python",
   "name": "python3"
  },
  "language_info": {
   "codemirror_mode": {
    "name": "ipython",
    "version": 3
   },
   "file_extension": ".py",
   "mimetype": "text/x-python",
   "name": "python",
   "nbconvert_exporter": "python",
   "pygments_lexer": "ipython3",
   "version": "3.9.12"
  }
 },
 "nbformat": 4,
 "nbformat_minor": 5
}
