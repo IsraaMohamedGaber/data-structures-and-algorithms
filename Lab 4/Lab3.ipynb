{
 "cells": [
  {
   "cell_type": "markdown",
   "id": "1160d2d5",
   "metadata": {},
   "source": [
    "# MinMax_DAC (array, start_index, end_index, MAX, MIN)\n",
    " Step 1: If (start_index = end_index)\n",
    " MAX = MIN = value of start_index \n",
    " Step 2: Else If(end_index-start_index = 1)\n",
    " Check if the value of the start_index greater than the value of end_index then \n",
    "MAX := value of start_index, MIN := value of end_index\n",
    " Otherwise: MAX := value of end_index, MIN := value of start_index\n",
    " Step 3: Else\n",
    " Find the middle of Array\n",
    " MinMax_DAC(array, start_index, middle, MAX1, MIN1)\n",
    " MinMax_DAC(array, middle+1, end_index, MAX, MIN)\n",
    " If MAX1 > MAX then MAX := MAX1\n",
    " If MIN1  <  MIN  then MIN  :=  MIN1\n",
    " End MinMax_DAC"
   ]
  },
  {
   "cell_type": "code",
   "execution_count": 28,
   "id": "a663d161",
   "metadata": {},
   "outputs": [],
   "source": [
    "def MinMax_DAC(array,start_index,last_index):\n",
    "    #first case array has one element so max equal min\n",
    "    if (start_index==last_index):\n",
    "        max_value=array[start_index]\n",
    "        min_value=array[start_index]\n",
    "        return max_value,min_value\n",
    "     # second base case array \"List\" has 2 values\n",
    "    elif last_index - start_index ==1:\n",
    "        if array[start_index]>array[last_index]:\n",
    "            max_value=array[start_index]\n",
    "            min_value=array[last_index]\n",
    "            return max_value,min_value\n",
    "        else:\n",
    "            max_value=array[last_index]\n",
    "            min_value=array[start_index]\n",
    "            return max_value,min_value\n",
    "        \n",
    "    #GENERAL CASE More than 2 values\n",
    "    #it will work recusion to find min and max\n",
    "    else:\n",
    "        mid_index = (start_index + last_index) // 2  #// -> to round\n",
    "        #recursive call\n",
    "        left_pair = MinMax_DAC(array, start_index, mid_index)\n",
    "        right_pair = MinMax_DAC(array, mid_index + 1, last_index)\n",
    "        #return  max(left_pair.Max, right_pair.Max),min(left_pair.Min, right_pair.Min)-->>error\n",
    "        #bec tuples use numeric indexe\n",
    "        #last step merge\n",
    "        #merging the results of the recursive calls and determining the overall minimum and maximum values in the given portion of the array.\n",
    "        return max(left_pair[0], right_pair[0]), min(left_pair[1], right_pair[1])\n"
   ]
  },
  {
   "cell_type": "code",
   "execution_count": 29,
   "id": "0312801e",
   "metadata": {},
   "outputs": [
    {
     "name": "stdout",
     "output_type": "stream",
     "text": [
      "Maximum: 12\n",
      "Minimum: 1\n"
     ]
    }
   ],
   "source": [
    "m = [3, 5, 1, 8, 2, 9, 10,12]\n",
    "#m = [ 3,5]\n",
    "#m = [1]\n",
    "maximum,minimum=MinMax_DAC(m,0,len(m)-1)\n",
    "print(\"Maximum:\", maximum)\n",
    "print(\"Minimum:\", minimum)\n"
   ]
  },
  {
   "cell_type": "code",
   "execution_count": 16,
   "id": "f4c4435f",
   "metadata": {},
   "outputs": [],
   "source": [
    "#Another way using struct data type\n",
    "class Pair:\n",
    "    def __init__(self, max_val, min_val):\n",
    "        self.Max = max_val\n",
    "        self.Min = min_val\n",
    "\n",
    "class MaxMinDAC:\n",
    "    def find_max_min(arr, start_index, end_index):\n",
    "        #first case array has one element so max equal min\n",
    "        if start_index == end_index: \n",
    "            max_value=arr[start_index]\n",
    "            min_value=arr[start_index]\n",
    "            return Pair(max_value, min_value)\n",
    "        # second base case array \"List\" has 2 values\n",
    "        elif end_index - start_index == 1:  \n",
    "            if arr[start_index] > arr[end_index]:\n",
    "                max_value=arr[start_index]\n",
    "                min_value=arr[end_index]\n",
    "                return Pair(max_value, min_value)\n",
    "            else:\n",
    "                max_value=arr[start_index]\n",
    "                min_value=arr[end_index]\n",
    "                return Pair(min_value, max_value)\n",
    "         #GENERAL CASE More than 2 values\n",
    "        else: \n",
    "            mid_index = (start_index + end_index) // 2\n",
    "            left_pair = MaxMinDAC.find_max_min(arr, start_index, mid_index)\n",
    "            right_pair = MaxMinDAC.find_max_min(arr, mid_index + 1, end_index)\n",
    "            \n",
    "            return Pair(    \n",
    "                max(left_pair.Max, right_pair.Max),\n",
    "                min(left_pair.Min, right_pair.Min)\n",
    "            )\n",
    "\n"
   ]
  },
  {
   "cell_type": "code",
   "execution_count": 17,
   "id": "3c2a19d0",
   "metadata": {},
   "outputs": [
    {
     "name": "stdout",
     "output_type": "stream",
     "text": [
      "Max: 5, Min: 3\n"
     ]
    }
   ],
   "source": [
    "#arr = [3, 5, 1, 8, 2, 9, 10,12]\n",
    "arr = [ 3,5]\n",
    "#arr = [1]\n",
    "\n",
    "result = MaxMinDAC.find_max_min(arr, 0, len(arr) - 1)\n",
    "print(f\"Max: {result.Max}, Min: {result.Min}\")"
   ]
  },
  {
   "cell_type": "markdown",
   "id": "5e1ce68a",
   "metadata": {},
   "source": [
    "# Merge Sort "
   ]
  },
  {
   "cell_type": "code",
   "execution_count": 36,
   "id": "c7aa4d44",
   "metadata": {},
   "outputs": [],
   "source": [
    "def merge_sort(array):\n",
    "    #check there is element in array or not\n",
    "    if len(array) <= 1:\n",
    "        return array\n",
    "    else:\n",
    "        mid = len(array) // 2\n",
    "        left_half = merge_sort(array[:mid])#slicing\n",
    "        right_half = merge_sort(array[mid:])\n",
    "        return merge(left_half, right_half)\n",
    "\n",
    "def merge(left, right):\n",
    "    # To store merged sorted elements\n",
    "    sorted_array = []\n",
    "    # Pointers for left and right arrays\n",
    "    i = j = 0\n",
    "    # Merge two sorted arrays\n",
    "    while i < len(left) and j < len(right):\n",
    "        if left[i] < right[j]:\n",
    "            sorted_array.append(left[i])\n",
    "            i =i + 1\n",
    "        else:\n",
    "            sorted_array.append(right[j])\n",
    "            j =j+ 1\n",
    "    # ensure that any remaining elements from the left or right subarray are added to the sorted result.\n",
    "    #Since element are already sorted, we can directly append the remaining elements without further comparison.\n",
    "    sorted_array.extend(left[i:])\n",
    "    sorted_array.extend(right[j:])\n",
    "    return sorted_array"
   ]
  },
  {
   "cell_type": "code",
   "execution_count": 37,
   "id": "5508f0dd",
   "metadata": {},
   "outputs": [
    {
     "name": "stdout",
     "output_type": "stream",
     "text": [
      "Sorted Array: [1, 2, 3, 5, 8, 9, 10, 12]\n"
     ]
    }
   ],
   "source": [
    "m = [3, 5, 1, 8, 2, 9, 10, 12]\n",
    "result = merge_sort(m)\n",
    "print(\"Sorted Array:\", result)"
   ]
  },
  {
   "cell_type": "code",
   "execution_count": null,
   "id": "e02e7288",
   "metadata": {},
   "outputs": [],
   "source": []
  },
  {
   "cell_type": "markdown",
   "id": "383b502b",
   "metadata": {},
   "source": [
    "# Quick Sort \n"
   ]
  },
  {
   "cell_type": "code",
   "execution_count": 43,
   "id": "0a3e2ed1",
   "metadata": {},
   "outputs": [],
   "source": [
    "def partition(array, start_index, end_index):\n",
    "    pivot = array[start_index]#first elemant\n",
    "    low = start_index + 1 #incrment start \n",
    "    high = end_index #make last elment high\n",
    "    #normal move berfore swap\n",
    "    while  low <= high:\n",
    "        #start move from right\n",
    "        #check value low less than high and index\n",
    "        while low <= high and array[low] < pivot:\n",
    "            low =low+1\n",
    "        #start move from left    \n",
    "        while low <= high and array[high] > pivot:\n",
    "            high =high- 1\n",
    "        if high > low:\n",
    "            #swap between high and low\n",
    "            array[low], array[high] = array[high], array[low]\n",
    "            low =low+ 1\n",
    "            high =high- 1\n",
    "    #after this index high less tan inddex low so mean move all array \n",
    "    #and need to change postion of pivot with high\n",
    "    array[start_index], array[high] = array[high], array[start_index]\n",
    "    return high\n",
    "\n",
    "def quick_sort(array, start_index, end_index):\n",
    "    if end_index > start_index:#have list of number -> base case\n",
    "        #to find place  start and end and poivot \n",
    "        loc = partition(array, start_index, end_index)\n",
    "        #to make before piove smaller than it and after piovt greater than it\n",
    "        quick_sort(array, start_index, loc - 1)\n",
    "        quick_sort(array, loc + 1, end_index)\n",
    "\n",
    "\n"
   ]
  },
  {
   "cell_type": "code",
   "execution_count": 44,
   "id": "d4cb8d88",
   "metadata": {},
   "outputs": [
    {
     "name": "stdout",
     "output_type": "stream",
     "text": [
      "Sorted array: [1, 2, 3, 4, 5, 8, 9]\n"
     ]
    }
   ],
   "source": [
    "arr = [3, 5, 1, 8, 2, 9, 4]\n",
    "quick_sort(arr, 0, len(arr) - 1)\n",
    "print(\"Sorted array:\", arr)"
   ]
  },
  {
   "cell_type": "code",
   "execution_count": null,
   "id": "c918355d",
   "metadata": {},
   "outputs": [],
   "source": []
  },
  {
   "cell_type": "code",
   "execution_count": null,
   "id": "3fec04e8",
   "metadata": {},
   "outputs": [],
   "source": []
  }
 ],
 "metadata": {
  "kernelspec": {
   "display_name": "Python 3 (ipykernel)",
   "language": "python",
   "name": "python3"
  },
  "language_info": {
   "codemirror_mode": {
    "name": "ipython",
    "version": 3
   },
   "file_extension": ".py",
   "mimetype": "text/x-python",
   "name": "python",
   "nbconvert_exporter": "python",
   "pygments_lexer": "ipython3",
   "version": "3.9.12"
  }
 },
 "nbformat": 4,
 "nbformat_minor": 5
}
