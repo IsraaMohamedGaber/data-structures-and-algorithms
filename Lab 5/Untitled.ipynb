{
 "cells": [
  {
   "cell_type": "markdown",
   "id": "3990c84e",
   "metadata": {},
   "source": [
    "# Fractional Knapsack\n",
    "# Knapsack Greedy Technique\n",
    "\n"
   ]
  },
  {
   "cell_type": "code",
   "execution_count": 1,
   "id": "0ea7fe6b",
   "metadata": {},
   "outputs": [],
   "source": [
    "class Knapsack:\n",
    "    def __init__(self,weight,profit):\n",
    "        self.profit=profit\n",
    "        self.weight=weight\n",
    "        self.cost=profit / weight # -> profit per unit weigth      "
   ]
  },
  {
   "cell_type": "code",
   "execution_count": 2,
   "id": "42773ba5",
   "metadata": {},
   "outputs": [],
   "source": [
    "def Knapsack_greedy(weights,profits,capacity):\n",
    "    #need to find lenght of weights or profits to make loop in it and create objects depend on size of weights or profits\n",
    "    n=len(weights)\n",
    "    #first create empty list to add object and then loop and appeand item in it\n",
    "    packs=[]\n",
    "    for i in range(n):\n",
    "        packs.append(Knapsack(weights[i],profits[i]))\n",
    "    #then we need to cal cost for every item where cost=profit / weight \n",
    "    #then arrange packs in descending order to follow algromthim technique\n",
    "    packs.sort(key=lambda x: x.cost,reverse=True)\n",
    "    #now we need define the remain from capacity and finale result for Knapsack bag\n",
    "    remain=capacity\n",
    "    result=0.0\n",
    "    print(\"Packages:\")\n",
    "    for i in range(n):\n",
    "        if(packs[i].weight<=remain):\n",
    "            remain=remain-packs[i].weight\n",
    "            result=result+packs[i].profit\n",
    "            print(f\"Pack {i} - Weight {packs[i].weight} - Value {packs[i].profit}\")\n",
    "        elif remain > 0:\n",
    "            result1=(packs[i].profit*remain)/packs[i].weight\n",
    "            result=result+result1\n",
    "            print(f\"Pack {i} - Weight {packs[i].weight} - Value {result1:.2f}\")\n",
    "            break\n",
    "    print(f\"Max Value: {result:}\")       "
   ]
  },
  {
   "cell_type": "code",
   "execution_count": 3,
   "id": "9219a5cd",
   "metadata": {},
   "outputs": [
    {
     "name": "stdout",
     "output_type": "stream",
     "text": [
      "Packages:\n",
      "Pack 0 - Weight 1 - Value 8\n",
      "Pack 1 - Weight 1 - Value 5\n",
      "Pack 2 - Weight 3 - Value 10\n",
      "Pack 3 - Weight 5 - Value 15\n",
      "Pack 4 - Weight 3 - Value 9\n",
      "Pack 5 - Weight 2 - Value 4\n",
      "Max Value: 51.0\n"
     ]
    }
   ],
   "source": [
    "weights = [1, 3, 5, 4, 1, 3, 2]\n",
    "values = [5, 10, 15, 7, 8, 9, 4]\n",
    "capacity = 15\n",
    "Knapsack_greedy(weights,values,capacity)"
   ]
  },
  {
   "cell_type": "markdown",
   "id": "240c8c0a",
   "metadata": {},
   "source": [
    "# Job Sequence with deadline\n"
   ]
  },
  {
   "cell_type": "code",
   "execution_count": 4,
   "id": "95bb24b6",
   "metadata": {},
   "outputs": [],
   "source": [
    "class job:\n",
    "    def __init__(self,job_id,deadline,profit):\n",
    "        self.job_id=job_id\n",
    "        self.deadline=deadline\n",
    "        self.profit=profit"
   ]
  },
  {
   "cell_type": "code",
   "execution_count": 5,
   "id": "19853b67",
   "metadata": {},
   "outputs": [],
   "source": [
    "def Job_Sequence_with_deadline(jobs):\n",
    "    #first we nee to sort jobs basic on profict in descending order\n",
    "    jobs.sort(key=lambda x:x.profit,reverse=True)\n",
    "    #we need to find number of jobs to to loop throght it\n",
    "    n=len(jobs)\n",
    "    # To store the sequence of jobs\n",
    "    result=[None]*n\n",
    "    # To keep track of free time slots\n",
    "    solt=[False]*n\n",
    "    #loop through all given job\n",
    "    for i in range(n):\n",
    "        # Find a free slot for this job knowing that we start from last possible slot\n",
    "        for j in range(min(n,jobs[i].deadline)-1,-1,-1):\n",
    "            #check  If the slot is free\n",
    "            if not solt[j]:\n",
    "                #Assign job ID to this slot\n",
    "                result[j]=jobs[i].job_id\n",
    "                # Mark this slot as occupied\n",
    "                solt[j]=True\n",
    "                break\n",
    "    print(\"Job Sequence:\", end=\" \")\n",
    "    for job in result:\n",
    "        if job:\n",
    "            print(job, end=\" → \")\n",
    "    print(\"\\b\\b \")  # To remove the last arrow and space\n",
    "\n",
    "                "
   ]
  },
  {
   "cell_type": "code",
   "execution_count": 6,
   "id": "cb4a6928",
   "metadata": {},
   "outputs": [
    {
     "name": "stdout",
     "output_type": "stream",
     "text": [
      "Job Sequence: J5 → J1 → J3 → J2 → \b\b \n"
     ]
    }
   ],
   "source": [
    "jobs = [\n",
    "    job('J1', 2, 40),\n",
    "    job('J2', 4, 15),\n",
    "    job('J3', 3, 60),\n",
    "    job('J4', 2, 20),\n",
    "    job('J5', 3, 10),\n",
    "    job('J5', 1, 45),\n",
    "    job('J5', 1, 55),\n",
    "\n",
    "]\n",
    "\n",
    "Job_Sequence_with_deadline(jobs)"
   ]
  },
  {
   "cell_type": "markdown",
   "id": "153fc2f6",
   "metadata": {},
   "source": [
    "# Matrix Chain Multiplication"
   ]
  },
  {
   "cell_type": "code",
   "execution_count": 10,
   "id": "40e5623a",
   "metadata": {},
   "outputs": [
    {
     "name": "stdout",
     "output_type": "stream",
     "text": [
      "Minimum number of multiplications: 158\n"
     ]
    }
   ],
   "source": [
    "import sys\n",
    "def Matrix_Chain_Multiplication(number_of_diminsion):\n",
    "    # cal Dimensions Array\n",
    "    n=len(number_of_diminsion)- 1\n",
    "    # Minimum cost table\n",
    "    m=[]\n",
    "    # Split table\n",
    "    s=[]\n",
    "    for z in range(n):\n",
    "        m.append([0]*n)# Append a row of zeros\n",
    "        s.append([0]*n)# Append a row of zeros\n",
    "        \n",
    "    for d in range(1, n):  # Chain length (d = 1 to n-1)\n",
    "        for i in range(n - d):  # Iterate over starting matrix index\n",
    "            j = i + d  # Ending matrix index\n",
    "            min_cost = sys.maxsize  # Initialize to a large number\n",
    "            for k in range(i, j):  # Possible splits\n",
    "                cost = m[i][k] + m[k + 1][j] + p[i] * p[k + 1] * p[j + 1]  # Compute cost\n",
    "                if cost < min_cost:  # Update min cost and optimal split\n",
    "                    min_cost = cost\n",
    "                    s[i][j] = k\n",
    "            m[i][j] = min_cost  # Store the minimum cost\n",
    "\n",
    "    return m, s\n",
    "\n",
    "# Example usage\n",
    "p = [5, 4, 6, 2, 7]  # Matrix dimensions\n",
    "m, s = matrix_chain_order(p)\n",
    "print(\"Minimum number of multiplications:\", m[0][-1])  # Output the final result    "
   ]
  },
  {
   "cell_type": "code",
   "execution_count": 13,
   "id": "8ee9e50e",
   "metadata": {},
   "outputs": [
    {
     "name": "stdout",
     "output_type": "stream",
     "text": [
      "Optimal Parenthesization:\n",
      "((A0(A1 * A2))A3)\n",
      "Minimum number of multiplications: 158\n"
     ]
    }
   ],
   "source": [
    "def Matrix_Chain_Multiplication(p):\n",
    "    n = len(p) - 1 \n",
    "    # Minimum cost table\n",
    "    m=[]\n",
    "    # Split table\n",
    "    s=[]\n",
    "    for z in range(n):\n",
    "        m.append([0]*n)# Append a row of zeros\n",
    "        s.append([0]*n)# Append a row of zeros\n",
    "#We start from l = 2 because a single matrix (length 1) does not require multiplication.\n",
    "# l is the chain length combining each chain length from 2 , 3, 4, ... n\n",
    "#We iterate up to n (the number of matrices) to consider all possible groupings\n",
    "    for l in range(2, n+1): \n",
    "        for i in range(n-l+1): # i is the start index      # range(4 - 2 + 1) → range(3) → i = [0, 1, 2]\n",
    "            j = i + l - 1 # j is the end index             # j = i + 2 - 1  # j = i + 1\n",
    "            m[i][j] = float('inf') # initialize with infinity not with 0 as we are going to take minimum of the values\n",
    "\n",
    "\n",
    "            for k in range(i, j): # k is the split index\n",
    "                q = m[i][k] + m[k+1][j] + p[i]*p[k+1]*p[j+1] # calculate the number of multiplications\n",
    "\n",
    "                if q < m[i][j]: # if the number of multiplications is less than the previous value\n",
    "                    m[i][j] = q\n",
    "                    s[i][j] = k\n",
    "    return m, s\n",
    "\n",
    "\n",
    "def print_optimal_parens(s, i, j):\n",
    "    if i == j:\n",
    "        print(f\"A{i}\", end=\"\")\n",
    "    \n",
    "    elif i == j - 1:\n",
    "        print(f\"(A{i} * A{j})\", end=\"\")\n",
    "\n",
    "    else:\n",
    "        print(\"(\", end=\"\")\n",
    "        print_optimal_parens(s, i, s[i][j])\n",
    "        print_optimal_parens(s, s[i][j]+1, j)\n",
    "        print(\")\", end=\"\")\n",
    "\n",
    "\n",
    "p = [5, 4, 6, 2, 7]\n",
    "m, s = Matrix_Chain_Multiplication(p)\n",
    "print(\"Optimal Parenthesization:\")\n",
    "print_optimal_parens(s, 0, len(p)-2)\n",
    "print(\"\\nMinimum number of multiplications:\", m[0][len(p)-2])\n"
   ]
  },
  {
   "cell_type": "code",
   "execution_count": null,
   "id": "0b934d97",
   "metadata": {},
   "outputs": [],
   "source": []
  },
  {
   "cell_type": "markdown",
   "id": "b29b8c3a",
   "metadata": {},
   "source": [
    "# I/O knapsack\n"
   ]
  },
  {
   "cell_type": "code",
   "execution_count": 34,
   "id": "5d31f92b",
   "metadata": {},
   "outputs": [],
   "source": [
    "class Knapsack:\n",
    "    def __init__(self, weights, profits, capacity):\n",
    "        self.weights = weights\n",
    "        self.profits = profits\n",
    "        self.capacity = capacity\n",
    "        self.n = len(weights)\n",
    "    \n",
    "    def knapsack_dp(self):\n",
    "        # Create a DP table with dimensions (n+1) x (capacity+1)\n",
    "        dp = []\n",
    "        for m in range(self.n + 1):\n",
    "            dp.append([0] * (self.capacity + 1))\n",
    "\n",
    "        \n",
    "        # Build the table in bottom-up manner\n",
    "        for i in range(1, self.n + 1):\n",
    "            for w in range(self.capacity + 1):\n",
    "                if self.weights[i - 1] <= w:\n",
    "                    dp[i][w] = max(dp[i - 1][w], self.profits[i - 1] + dp[i - 1][w - self.weights[i - 1]])\n",
    "                else:\n",
    "                    dp[i][w] = dp[i - 1][w]\n",
    "        \n",
    "        return dp[self.n][self.capacity]\n",
    "\n",
    "\n"
   ]
  },
  {
   "cell_type": "code",
   "execution_count": 35,
   "id": "69f8e9f9",
   "metadata": {},
   "outputs": [
    {
     "name": "stdout",
     "output_type": "stream",
     "text": [
      "Maximum Profit: 8\n"
     ]
    }
   ],
   "source": [
    "profits = [1, 2, 5, 6]\n",
    "weights = [2,3,4,5]\n",
    "capacity = 8\n",
    "knapsack = Knapsack(weights, profits, capacity)\n",
    "max_profit = knapsack.knapsack_dp()\n",
    "print(f\"Maximum Profit: {max_profit}\")\n"
   ]
  },
  {
   "cell_type": "code",
   "execution_count": null,
   "id": "a94c9ffa",
   "metadata": {},
   "outputs": [],
   "source": []
  }
 ],
 "metadata": {
  "kernelspec": {
   "display_name": "Python 3 (ipykernel)",
   "language": "python",
   "name": "python3"
  },
  "language_info": {
   "codemirror_mode": {
    "name": "ipython",
    "version": 3
   },
   "file_extension": ".py",
   "mimetype": "text/x-python",
   "name": "python",
   "nbconvert_exporter": "python",
   "pygments_lexer": "ipython3",
   "version": "3.9.12"
  }
 },
 "nbformat": 4,
 "nbformat_minor": 5
}
